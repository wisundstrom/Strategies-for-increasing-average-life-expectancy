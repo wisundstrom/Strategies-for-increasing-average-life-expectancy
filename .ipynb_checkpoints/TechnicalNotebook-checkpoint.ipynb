{
 "cells": [
  {
   "cell_type": "code",
   "execution_count": 1,
   "metadata": {},
   "outputs": [],
   "source": [
    "import pandas as pd\n",
    "import numpy as np\n",
    "from data_clean import data_clean\n",
    "from sklearn.model_selection import GridSearchCV\n",
    "from sklearn.preprocessing import StandardScaler\n",
    "from sklearn.linear_model import Lasso, Ridge, ElasticNet\n",
    "from sklearn.pipeline import Pipeline, make_pipeline\n",
    "import seaborn as sns\n",
    "import matplotlib.pyplot as plt\n",
    "import TechBookFunctions as tb\n"
   ]
  },
  {
   "cell_type": "markdown",
   "metadata": {},
   "source": [
    "# How to Increase Average Life Expectancy #\n",
    "We will be using the County Health Status Indicators dataset from the CDC to identify features in the data that most affect average life expectancy. The first step in our process is to import and clean the data. The details of the importing and cleaning the data are located in the data_import.py and data_clean.py files."
   ]
  },
  {
   "cell_type": "code",
   "execution_count": 2,
   "metadata": {},
   "outputs": [],
   "source": [
    "X_train, X_test, y_train, y_test = tb.import_and_clean()"
   ]
  },
  {
   "cell_type": "markdown",
   "metadata": {},
   "source": [
    "Now that we have the fully cleaned data, we use sklearn's pipline system to perform parameter selection\n",
    "\n",
    "## The Model ##\n",
    "We chose to scale our features with the sklearn StandardScalar because we needed to standardize the units of our features, but we did not want to lose the interpretability of our regression coefficients. Using sklearn's pipeline object allows us to make sure that there is no data leakage from the scaling process during our cross validation. We decided to use the Elastic Net as our regression model because we wanted to perform feature selection but we also knew that there was some colinearity between our features."
   ]
  },
  {
   "cell_type": "code",
   "execution_count": 3,
   "metadata": {},
   "outputs": [
    {
     "name": "stderr",
     "output_type": "stream",
     "text": [
      "/home/will/anaconda3/envs/learn-env/lib/python3.6/site-packages/sklearn/model_selection/_search.py:813: DeprecationWarning: The default of the `iid` parameter will change from True to False in version 0.22 and will be removed in 0.24. This will change numeric results when test-set sizes are unequal.\n",
      "  DeprecationWarning)\n"
     ]
    }
   ],
   "source": [
    "# First we create a Pipeline object containing the Scaler we are using to standardize our data, and the regression model we are using\n",
    "pipe = Pipeline([\n",
    "    ('sc', StandardScaler()),\n",
    "    ('elastic', ElasticNet(max_iter=10000))\n",
    "])\n",
    "\n",
    "# We then create lists of parameter values to try in the model\n",
    "params = {\n",
    "    # this list of parametes was chosen by trial and error\n",
    "    'elastic__alpha': [.001, .025, .05, .1, .4, .5, .6, .75, 1, 2, 5, 10],\n",
    "    # this list of parameters is a modified list of suggested parameters from sklearn\n",
    "    'elastic__l1_ratio': [.1, .5, .6, .7,  .9, .95, .99, 1]\n",
    "}\n",
    "\n",
    "# Here we pass our pipline and params list into a GridSearch object. Grid search takes all possible combinations of parameters in the\n",
    "# params dictionary and performs cross-fold validation for each combination.\n",
    "search = GridSearchCV(estimator=pipe,\n",
    "                      param_grid=params,\n",
    "                      cv=5,  # this is the number of folds to use in the cross validation\n",
    "                      return_train_score=True\n",
    "                      )\n",
    "\n",
    "# Finally we fit our full model to the training data\n",
    "search.fit(X_train, y_train);\n"
   ]
  },
  {
   "cell_type": "markdown",
   "metadata": {},
   "source": [
    "Below we have a chart with the 5 best performing combinations of parameters from our model selecting process. This chart also includes the mean testing and training training scores (correlation coefficients) for the models."
   ]
  },
  {
   "cell_type": "code",
   "execution_count": 4,
   "metadata": {},
   "outputs": [
    {
     "data": {
      "text/html": [
       "<div>\n",
       "<style scoped>\n",
       "    .dataframe tbody tr th:only-of-type {\n",
       "        vertical-align: middle;\n",
       "    }\n",
       "\n",
       "    .dataframe tbody tr th {\n",
       "        vertical-align: top;\n",
       "    }\n",
       "\n",
       "    .dataframe thead th {\n",
       "        text-align: right;\n",
       "    }\n",
       "</style>\n",
       "<table border=\"1\" class=\"dataframe\">\n",
       "  <thead>\n",
       "    <tr style=\"text-align: right;\">\n",
       "      <th></th>\n",
       "      <th>rank_test_score</th>\n",
       "      <th>param_elastic__alpha</th>\n",
       "      <th>param_elastic__l1_ratio</th>\n",
       "      <th>mean_test_score</th>\n",
       "      <th>mean_train_score</th>\n",
       "    </tr>\n",
       "  </thead>\n",
       "  <tbody>\n",
       "    <tr>\n",
       "      <th>34</th>\n",
       "      <td>1</td>\n",
       "      <td>0.4</td>\n",
       "      <td>0.6</td>\n",
       "      <td>0.586516</td>\n",
       "      <td>0.589993</td>\n",
       "    </tr>\n",
       "    <tr>\n",
       "      <th>41</th>\n",
       "      <td>2</td>\n",
       "      <td>0.5</td>\n",
       "      <td>0.5</td>\n",
       "      <td>0.578798</td>\n",
       "      <td>0.581920</td>\n",
       "    </tr>\n",
       "    <tr>\n",
       "      <th>35</th>\n",
       "      <td>3</td>\n",
       "      <td>0.4</td>\n",
       "      <td>0.7</td>\n",
       "      <td>0.575782</td>\n",
       "      <td>0.579147</td>\n",
       "    </tr>\n",
       "    <tr>\n",
       "      <th>42</th>\n",
       "      <td>4</td>\n",
       "      <td>0.5</td>\n",
       "      <td>0.6</td>\n",
       "      <td>0.564564</td>\n",
       "      <td>0.567497</td>\n",
       "    </tr>\n",
       "    <tr>\n",
       "      <th>49</th>\n",
       "      <td>5</td>\n",
       "      <td>0.6</td>\n",
       "      <td>0.5</td>\n",
       "      <td>0.558851</td>\n",
       "      <td>0.561542</td>\n",
       "    </tr>\n",
       "  </tbody>\n",
       "</table>\n",
       "</div>"
      ],
      "text/plain": [
       "    rank_test_score param_elastic__alpha param_elastic__l1_ratio  \\\n",
       "34                1                  0.4                     0.6   \n",
       "41                2                  0.5                     0.5   \n",
       "35                3                  0.4                     0.7   \n",
       "42                4                  0.5                     0.6   \n",
       "49                5                  0.6                     0.5   \n",
       "\n",
       "    mean_test_score  mean_train_score  \n",
       "34         0.586516          0.589993  \n",
       "41         0.578798          0.581920  \n",
       "35         0.575782          0.579147  \n",
       "42         0.564564          0.567497  \n",
       "49         0.558851          0.561542  "
      ]
     },
     "execution_count": 4,
     "metadata": {},
     "output_type": "execute_result"
    }
   ],
   "source": [
    "tb.model_selection_results(search)"
   ]
  },
  {
   "cell_type": "markdown",
   "metadata": {},
   "source": [
    "Now that we have selected the best parameters for our model, we fit a model with those parameters so we can look at the individual feature coefficients.\n",
    "Here are the regression coefficients as a bar plot, with a table of the values afterward."
   ]
  },
  {
   "cell_type": "code",
   "execution_count": 5,
   "metadata": {},
   "outputs": [
    {
     "data": {
      "image/png": "[encoded data removed]",
      "text/plain": [
       "<Figure size 1080x720 with 1 Axes>"
      ]
     },
     "metadata": {
      "needs_background": "light"
     },
     "output_type": "display_data"
    }
   ],
   "source": [
    "coefficients_table=tb.run_model(X_train, y_train, l1_ratio=.6, alpha=.4)\n"
   ]
  },
  {
   "cell_type": "code",
   "execution_count": 6,
   "metadata": {},
   "outputs": [
    {
     "data": {
      "text/html": [
       "<div>\n",
       "<style scoped>\n",
       "    .dataframe tbody tr th:only-of-type {\n",
       "        vertical-align: middle;\n",
       "    }\n",
       "\n",
       "    .dataframe tbody tr th {\n",
       "        vertical-align: top;\n",
       "    }\n",
       "\n",
       "    .dataframe thead th {\n",
       "        text-align: right;\n",
       "    }\n",
       "</style>\n",
       "<table border=\"1\" class=\"dataframe\">\n",
       "  <thead>\n",
       "    <tr style=\"text-align: right;\">\n",
       "      <th></th>\n",
       "      <th>0</th>\n",
       "      <th>1</th>\n",
       "    </tr>\n",
       "  </thead>\n",
       "  <tbody>\n",
       "    <tr>\n",
       "      <th>0</th>\n",
       "      <td>LBW</td>\n",
       "      <td>-0.148143</td>\n",
       "    </tr>\n",
       "    <tr>\n",
       "      <th>2</th>\n",
       "      <td>Under_18</td>\n",
       "      <td>-0.102633</td>\n",
       "    </tr>\n",
       "    <tr>\n",
       "      <th>1</th>\n",
       "      <td>Premature</td>\n",
       "      <td>-0.0981182</td>\n",
       "    </tr>\n",
       "    <tr>\n",
       "      <th>7</th>\n",
       "      <td>No_HS_Diploma</td>\n",
       "      <td>-0.082061</td>\n",
       "    </tr>\n",
       "    <tr>\n",
       "      <th>15</th>\n",
       "      <td>Diabetes</td>\n",
       "      <td>-0.0441351</td>\n",
       "    </tr>\n",
       "    <tr>\n",
       "      <th>12</th>\n",
       "      <td>No_Exercise</td>\n",
       "      <td>-0.0427899</td>\n",
       "    </tr>\n",
       "    <tr>\n",
       "      <th>5</th>\n",
       "      <td>MVA</td>\n",
       "      <td>-0.0252421</td>\n",
       "    </tr>\n",
       "    <tr>\n",
       "      <th>14</th>\n",
       "      <td>High_Blood_Pres</td>\n",
       "      <td>-0.0213517</td>\n",
       "    </tr>\n",
       "    <tr>\n",
       "      <th>6</th>\n",
       "      <td>Suicide</td>\n",
       "      <td>-0.00553249</td>\n",
       "    </tr>\n",
       "    <tr>\n",
       "      <th>13</th>\n",
       "      <td>Few_Fruit_Veg</td>\n",
       "      <td>-0.00501158</td>\n",
       "    </tr>\n",
       "    <tr>\n",
       "      <th>19</th>\n",
       "      <td>Prim_Care_Phys_Rate</td>\n",
       "      <td>-0.00110771</td>\n",
       "    </tr>\n",
       "    <tr>\n",
       "      <th>9</th>\n",
       "      <td>Sev_Work_Disabled</td>\n",
       "      <td>-0.00091334</td>\n",
       "    </tr>\n",
       "    <tr>\n",
       "      <th>18</th>\n",
       "      <td>Disabled_Medicare</td>\n",
       "      <td>-0.000320744</td>\n",
       "    </tr>\n",
       "    <tr>\n",
       "      <th>10</th>\n",
       "      <td>Major_Depression</td>\n",
       "      <td>-0</td>\n",
       "    </tr>\n",
       "    <tr>\n",
       "      <th>8</th>\n",
       "      <td>Unemployed</td>\n",
       "      <td>-0</td>\n",
       "    </tr>\n",
       "    <tr>\n",
       "      <th>4</th>\n",
       "      <td>Late_Care</td>\n",
       "      <td>0</td>\n",
       "    </tr>\n",
       "    <tr>\n",
       "      <th>3</th>\n",
       "      <td>Over_40</td>\n",
       "      <td>0</td>\n",
       "    </tr>\n",
       "    <tr>\n",
       "      <th>11</th>\n",
       "      <td>Recent_Drug_Use</td>\n",
       "      <td>-0</td>\n",
       "    </tr>\n",
       "    <tr>\n",
       "      <th>21</th>\n",
       "      <td>FIPS</td>\n",
       "      <td>1.00833e-06</td>\n",
       "    </tr>\n",
       "    <tr>\n",
       "      <th>17</th>\n",
       "      <td>Elderly_Medicare</td>\n",
       "      <td>4.82218e-05</td>\n",
       "    </tr>\n",
       "    <tr>\n",
       "      <th>20</th>\n",
       "      <td>Dentist_Rate</td>\n",
       "      <td>0.0005829</td>\n",
       "    </tr>\n",
       "    <tr>\n",
       "      <th>16</th>\n",
       "      <td>Uninsured</td>\n",
       "      <td>0.000703026</td>\n",
       "    </tr>\n",
       "  </tbody>\n",
       "</table>\n",
       "</div>"
      ],
      "text/plain": [
       "                      0            1\n",
       "0                   LBW    -0.148143\n",
       "2              Under_18    -0.102633\n",
       "1             Premature   -0.0981182\n",
       "7         No_HS_Diploma    -0.082061\n",
       "15             Diabetes   -0.0441351\n",
       "12          No_Exercise   -0.0427899\n",
       "5                   MVA   -0.0252421\n",
       "14      High_Blood_Pres   -0.0213517\n",
       "6               Suicide  -0.00553249\n",
       "13        Few_Fruit_Veg  -0.00501158\n",
       "19  Prim_Care_Phys_Rate  -0.00110771\n",
       "9     Sev_Work_Disabled  -0.00091334\n",
       "18    Disabled_Medicare -0.000320744\n",
       "10     Major_Depression           -0\n",
       "8            Unemployed           -0\n",
       "4             Late_Care            0\n",
       "3               Over_40            0\n",
       "11      Recent_Drug_Use           -0\n",
       "21                 FIPS  1.00833e-06\n",
       "17     Elderly_Medicare  4.82218e-05\n",
       "20         Dentist_Rate    0.0005829\n",
       "16            Uninsured  0.000703026"
      ]
     },
     "execution_count": 6,
     "metadata": {},
     "output_type": "execute_result"
    }
   ],
   "source": [
    "coefficients_table"
   ]
  },
  {
   "cell_type": "code",
   "execution_count": null,
   "metadata": {},
   "outputs": [],
   "source": []
  }
 ],
 "metadata": {
  "kernelspec": {
   "display_name": "Python [conda env:learn-env] *",
   "language": "python",
   "name": "conda-env-learn-env-py"
  },
  "language_info": {
   "codemirror_mode": {
    "name": "ipython",
    "version": 3
   },
   "file_extension": ".py",
   "mimetype": "text/x-python",
   "name": "python",
   "nbconvert_exporter": "python",
   "pygments_lexer": "ipython3",
   "version": "3.6.6"
  }
 },
 "nbformat": 4,
 "nbformat_minor": 4
}

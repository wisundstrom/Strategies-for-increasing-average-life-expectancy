{
 "cells": [
  {
   "cell_type": "code",
   "execution_count": 8,
   "metadata": {},
   "outputs": [],
   "source": [
    "import pandas as pd\n",
    "import numpy as np\n",
    "from data_clean import data_clean\n",
    "from sklearn.model_selection import GridSearchCV\n",
    "from sklearn.preprocessing import StandardScaler\n",
    "from sklearn.linear_model import Lasso, Ridge, ElasticNet\n",
    "from sklearn.pipeline import Pipeline, make_pipeline\n",
    "import seaborn as sns\n",
    "import matplotlib.pyplot as plt\n",
    "\n",
    "X_train_temp = pd.read_csv('./data/dirty_X_train.csv',index_col = 0)\n",
    "y_train_temp = pd.read_csv('./data/dirty_y_train.csv',index_col = 0)\n",
    "\n",
    "X_train = data_clean(X_train_temp,'x')\n",
    "y_train = data_clean(y_train_temp,'y')\n",
    "# X_train.describe()"
   ]
  },
  {
   "cell_type": "code",
   "execution_count": null,
   "metadata": {},
   "outputs": [],
   "source": []
  },
  {
   "cell_type": "code",
   "execution_count": 13,
   "metadata": {},
   "outputs": [],
   "source": [
    "# sns.heatmap(X_train.isin([-9999,-2222,-2222.2,-2,-1111.1,-1111,-1]))"
   ]
  },
  {
   "cell_type": "code",
   "execution_count": 9,
   "metadata": {},
   "outputs": [
    {
     "name": "stderr",
     "output_type": "stream",
     "text": [
      "/home/will/anaconda3/envs/learn-env/lib/python3.6/site-packages/sklearn/linear_model/coordinate_descent.py:475: ConvergenceWarning: Objective did not converge. You might want to increase the number of iterations. Duality gap: 0.8544299457312263, tolerance: 0.8064680995024875\n",
      "  positive)\n",
      "/home/will/anaconda3/envs/learn-env/lib/python3.6/site-packages/sklearn/model_selection/_search.py:813: DeprecationWarning: The default of the `iid` parameter will change from True to False in version 0.22 and will be removed in 0.24. This will change numeric results when test-set sizes are unequal.\n",
      "  DeprecationWarning)\n"
     ]
    },
    {
     "data": {
      "text/plain": [
       "GridSearchCV(cv=5, error_score='raise-deprecating',\n",
       "             estimator=Pipeline(memory=None,\n",
       "                                steps=[('sc',\n",
       "                                        StandardScaler(copy=True,\n",
       "                                                       with_mean=True,\n",
       "                                                       with_std=True)),\n",
       "                                       ('elastic',\n",
       "                                        ElasticNet(alpha=1.0, copy_X=True,\n",
       "                                                   fit_intercept=True,\n",
       "                                                   l1_ratio=0.5, max_iter=10000,\n",
       "                                                   normalize=False,\n",
       "                                                   positive=False,\n",
       "                                                   precompute=False,\n",
       "                                                   random_state=None,\n",
       "                                                   selection='cyclic',\n",
       "                                                   tol=0.0001,\n",
       "                                                   warm_start=False))],\n",
       "                                verbose=False),\n",
       "             iid='warn', n_jobs=None,\n",
       "             param_grid={'elastic__alpha': [0.001, 0.025, 0.05, 0.1, 0.5, 0.75,\n",
       "                                            1, 2, 5, 10],\n",
       "                         'elastic__l1_ratio': [0.1, 0.5, 0.7, 0.9, 0.95, 0.99,\n",
       "                                               1]},\n",
       "             pre_dispatch='2*n_jobs', refit=True, return_train_score=True,\n",
       "             scoring=None, verbose=0)"
      ]
     },
     "execution_count": 9,
     "metadata": {},
     "output_type": "execute_result"
    }
   ],
   "source": [
    "pipe = Pipeline([\n",
    "    ('sc', StandardScaler() ),\n",
    "    ('elastic', ElasticNet(max_iter=10000) )\n",
    "])\n",
    "\n",
    "params = {\n",
    "    'elastic__alpha': [.001, .025, .05,.1, .5,.75, 1, 2, 5, 10],\n",
    "    'elastic__l1_ratio' : [.1, .5, .7, .9, .95, .99, 1]\n",
    "}\n",
    "\n",
    "search= GridSearchCV(estimator=pipe,\n",
    "                    param_grid=params,\n",
    "                    cv=5,\n",
    "                    return_train_score=True\n",
    "                    )\n",
    "search.fit(X_train, y_train)\n"
   ]
  },
  {
   "cell_type": "code",
   "execution_count": 10,
   "metadata": {},
   "outputs": [
    {
     "data": {
      "text/plain": [
       "(30, {'elastic__alpha': 0.5, 'elastic__l1_ratio': 0.7}, 0.5308738906859509)"
      ]
     },
     "execution_count": 10,
     "metadata": {},
     "output_type": "execute_result"
    }
   ],
   "source": [
    "search.best_index_, search.best_params_, search.best_score_"
   ]
  },
  {
   "cell_type": "code",
   "execution_count": 11,
   "metadata": {},
   "outputs": [
    {
     "name": "stdout",
     "output_type": "stream",
     "text": [
      "<class 'pandas.core.frame.DataFrame'>\n",
      "Int64Index: 2512 entries, 2559 to 2311\n",
      "Data columns (total 22 columns):\n",
      "Population_Size        2512 non-null float64\n",
      "LBW                    2512 non-null float64\n",
      "Premature              2512 non-null float64\n",
      "Under_18               2512 non-null float64\n",
      "Over_40                2512 non-null float64\n",
      "Late_Care              2512 non-null float64\n",
      "MVA                    2512 non-null float64\n",
      "Suicide                2512 non-null float64\n",
      "No_HS_Diploma          2512 non-null float64\n",
      "Unemployed             2512 non-null float64\n",
      "Sev_Work_Disabled      2512 non-null float64\n",
      "Major_Depression       2512 non-null float64\n",
      "Recent_Drug_Use        2512 non-null float64\n",
      "No_Exercise            2512 non-null float64\n",
      "Few_Fruit_Veg          2512 non-null float64\n",
      "High_Blood_Pres        2512 non-null float64\n",
      "Diabetes               2512 non-null float64\n",
      "Uninsured              2512 non-null float64\n",
      "Elderly_Medicare       2512 non-null float64\n",
      "Disabled_Medicare      2512 non-null float64\n",
      "Prim_Care_Phys_Rate    2512 non-null float64\n",
      "Dentist_Rate           2512 non-null float64\n",
      "dtypes: float64(22)\n",
      "memory usage: 451.4 KB\n"
     ]
    }
   ],
   "source": [
    "X_train.info()"
   ]
  },
  {
   "cell_type": "code",
   "execution_count": 8,
   "metadata": {},
   "outputs": [
    {
     "data": {
      "text/html": [
       "<div>\n",
       "<style scoped>\n",
       "    .dataframe tbody tr th:only-of-type {\n",
       "        vertical-align: middle;\n",
       "    }\n",
       "\n",
       "    .dataframe tbody tr th {\n",
       "        vertical-align: top;\n",
       "    }\n",
       "\n",
       "    .dataframe thead th {\n",
       "        text-align: right;\n",
       "    }\n",
       "</style>\n",
       "<table border=\"1\" class=\"dataframe\">\n",
       "  <thead>\n",
       "    <tr style=\"text-align: right;\">\n",
       "      <th></th>\n",
       "      <th>mean_fit_time</th>\n",
       "      <th>std_fit_time</th>\n",
       "      <th>mean_score_time</th>\n",
       "      <th>std_score_time</th>\n",
       "      <th>param_elastic__alpha</th>\n",
       "      <th>param_elastic__l1_ratio</th>\n",
       "      <th>params</th>\n",
       "      <th>split0_test_score</th>\n",
       "      <th>split1_test_score</th>\n",
       "      <th>split2_test_score</th>\n",
       "      <th>...</th>\n",
       "      <th>mean_test_score</th>\n",
       "      <th>std_test_score</th>\n",
       "      <th>rank_test_score</th>\n",
       "      <th>split0_train_score</th>\n",
       "      <th>split1_train_score</th>\n",
       "      <th>split2_train_score</th>\n",
       "      <th>split3_train_score</th>\n",
       "      <th>split4_train_score</th>\n",
       "      <th>mean_train_score</th>\n",
       "      <th>std_train_score</th>\n",
       "    </tr>\n",
       "  </thead>\n",
       "  <tbody>\n",
       "    <tr>\n",
       "      <th>30</th>\n",
       "      <td>0.004439</td>\n",
       "      <td>0.000329</td>\n",
       "      <td>0.001854</td>\n",
       "      <td>0.000035</td>\n",
       "      <td>0.5</td>\n",
       "      <td>0.7</td>\n",
       "      <td>{'elastic__alpha': 0.5, 'elastic__l1_ratio': 0.7}</td>\n",
       "      <td>0.546338</td>\n",
       "      <td>0.472051</td>\n",
       "      <td>0.513078</td>\n",
       "      <td>...</td>\n",
       "      <td>0.530874</td>\n",
       "      <td>0.035468</td>\n",
       "      <td>1</td>\n",
       "      <td>0.539334</td>\n",
       "      <td>0.550746</td>\n",
       "      <td>0.543297</td>\n",
       "      <td>0.522606</td>\n",
       "      <td>0.524365</td>\n",
       "      <td>0.536070</td>\n",
       "      <td>0.010923</td>\n",
       "    </tr>\n",
       "    <tr>\n",
       "      <th>29</th>\n",
       "      <td>0.004301</td>\n",
       "      <td>0.000078</td>\n",
       "      <td>0.001809</td>\n",
       "      <td>0.000048</td>\n",
       "      <td>0.5</td>\n",
       "      <td>0.5</td>\n",
       "      <td>{'elastic__alpha': 0.5, 'elastic__l1_ratio': 0.5}</td>\n",
       "      <td>0.573543</td>\n",
       "      <td>0.304124</td>\n",
       "      <td>0.547369</td>\n",
       "      <td>...</td>\n",
       "      <td>0.522163</td>\n",
       "      <td>0.110714</td>\n",
       "      <td>2</td>\n",
       "      <td>0.569983</td>\n",
       "      <td>0.579659</td>\n",
       "      <td>0.573342</td>\n",
       "      <td>0.553962</td>\n",
       "      <td>0.556704</td>\n",
       "      <td>0.566730</td>\n",
       "      <td>0.009849</td>\n",
       "    </tr>\n",
       "    <tr>\n",
       "      <th>36</th>\n",
       "      <td>0.004279</td>\n",
       "      <td>0.000048</td>\n",
       "      <td>0.001855</td>\n",
       "      <td>0.000104</td>\n",
       "      <td>0.75</td>\n",
       "      <td>0.5</td>\n",
       "      <td>{'elastic__alpha': 0.75, 'elastic__l1_ratio': ...</td>\n",
       "      <td>0.524828</td>\n",
       "      <td>0.450020</td>\n",
       "      <td>0.496480</td>\n",
       "      <td>...</td>\n",
       "      <td>0.507413</td>\n",
       "      <td>0.032740</td>\n",
       "      <td>3</td>\n",
       "      <td>0.515587</td>\n",
       "      <td>0.525043</td>\n",
       "      <td>0.519103</td>\n",
       "      <td>0.498730</td>\n",
       "      <td>0.499786</td>\n",
       "      <td>0.511650</td>\n",
       "      <td>0.010565</td>\n",
       "    </tr>\n",
       "    <tr>\n",
       "      <th>31</th>\n",
       "      <td>0.004500</td>\n",
       "      <td>0.000252</td>\n",
       "      <td>0.001849</td>\n",
       "      <td>0.000056</td>\n",
       "      <td>0.5</td>\n",
       "      <td>0.9</td>\n",
       "      <td>{'elastic__alpha': 0.5, 'elastic__l1_ratio': 0.9}</td>\n",
       "      <td>0.515693</td>\n",
       "      <td>0.442989</td>\n",
       "      <td>0.480949</td>\n",
       "      <td>...</td>\n",
       "      <td>0.497650</td>\n",
       "      <td>0.033106</td>\n",
       "      <td>4</td>\n",
       "      <td>0.507093</td>\n",
       "      <td>0.516705</td>\n",
       "      <td>0.513192</td>\n",
       "      <td>0.487723</td>\n",
       "      <td>0.487891</td>\n",
       "      <td>0.502521</td>\n",
       "      <td>0.012401</td>\n",
       "    </tr>\n",
       "    <tr>\n",
       "      <th>32</th>\n",
       "      <td>0.005244</td>\n",
       "      <td>0.000936</td>\n",
       "      <td>0.002423</td>\n",
       "      <td>0.000347</td>\n",
       "      <td>0.5</td>\n",
       "      <td>0.95</td>\n",
       "      <td>{'elastic__alpha': 0.5, 'elastic__l1_ratio': 0...</td>\n",
       "      <td>0.507251</td>\n",
       "      <td>0.434963</td>\n",
       "      <td>0.471630</td>\n",
       "      <td>...</td>\n",
       "      <td>0.488493</td>\n",
       "      <td>0.032667</td>\n",
       "      <td>5</td>\n",
       "      <td>0.498605</td>\n",
       "      <td>0.507485</td>\n",
       "      <td>0.504686</td>\n",
       "      <td>0.479043</td>\n",
       "      <td>0.478716</td>\n",
       "      <td>0.493707</td>\n",
       "      <td>0.012443</td>\n",
       "    </tr>\n",
       "  </tbody>\n",
       "</table>\n",
       "<p>5 rows × 22 columns</p>\n",
       "</div>"
      ],
      "text/plain": [
       "    mean_fit_time  std_fit_time  mean_score_time  std_score_time  \\\n",
       "30       0.004439      0.000329         0.001854        0.000035   \n",
       "29       0.004301      0.000078         0.001809        0.000048   \n",
       "36       0.004279      0.000048         0.001855        0.000104   \n",
       "31       0.004500      0.000252         0.001849        0.000056   \n",
       "32       0.005244      0.000936         0.002423        0.000347   \n",
       "\n",
       "   param_elastic__alpha param_elastic__l1_ratio  \\\n",
       "30                  0.5                     0.7   \n",
       "29                  0.5                     0.5   \n",
       "36                 0.75                     0.5   \n",
       "31                  0.5                     0.9   \n",
       "32                  0.5                    0.95   \n",
       "\n",
       "                                               params  split0_test_score  \\\n",
       "30  {'elastic__alpha': 0.5, 'elastic__l1_ratio': 0.7}           0.546338   \n",
       "29  {'elastic__alpha': 0.5, 'elastic__l1_ratio': 0.5}           0.573543   \n",
       "36  {'elastic__alpha': 0.75, 'elastic__l1_ratio': ...           0.524828   \n",
       "31  {'elastic__alpha': 0.5, 'elastic__l1_ratio': 0.9}           0.515693   \n",
       "32  {'elastic__alpha': 0.5, 'elastic__l1_ratio': 0...           0.507251   \n",
       "\n",
       "    split1_test_score  split2_test_score       ...         mean_test_score  \\\n",
       "30           0.472051           0.513078       ...                0.530874   \n",
       "29           0.304124           0.547369       ...                0.522163   \n",
       "36           0.450020           0.496480       ...                0.507413   \n",
       "31           0.442989           0.480949       ...                0.497650   \n",
       "32           0.434963           0.471630       ...                0.488493   \n",
       "\n",
       "    std_test_score  rank_test_score  split0_train_score  split1_train_score  \\\n",
       "30        0.035468                1            0.539334            0.550746   \n",
       "29        0.110714                2            0.569983            0.579659   \n",
       "36        0.032740                3            0.515587            0.525043   \n",
       "31        0.033106                4            0.507093            0.516705   \n",
       "32        0.032667                5            0.498605            0.507485   \n",
       "\n",
       "    split2_train_score  split3_train_score  split4_train_score  \\\n",
       "30            0.543297            0.522606            0.524365   \n",
       "29            0.573342            0.553962            0.556704   \n",
       "36            0.519103            0.498730            0.499786   \n",
       "31            0.513192            0.487723            0.487891   \n",
       "32            0.504686            0.479043            0.478716   \n",
       "\n",
       "    mean_train_score  std_train_score  \n",
       "30          0.536070         0.010923  \n",
       "29          0.566730         0.009849  \n",
       "36          0.511650         0.010565  \n",
       "31          0.502521         0.012401  \n",
       "32          0.493707         0.012443  \n",
       "\n",
       "[5 rows x 22 columns]"
      ]
     },
     "execution_count": 8,
     "metadata": {},
     "output_type": "execute_result"
    }
   ],
   "source": [
    "CV=pd.DataFrame(search.cv_results_)\n",
    "CV2=CV.sort_values('rank_test_score')\n",
    "CV2.head()"
   ]
  },
  {
   "cell_type": "code",
   "execution_count": 30,
   "metadata": {},
   "outputs": [
    {
     "data": {
      "text/plain": [
       "list"
      ]
     },
     "execution_count": 30,
     "metadata": {},
     "output_type": "execute_result"
    }
   ],
   "source": [
    "rid=ElasticNet(alpha=.5, l1_ratio=.7)\n",
    "rid.fit(X_train, y_train)\n",
    "coeffs=rid.coef_.tolist()\n",
    "c_ind=list(range(26))\n",
    "# coeffs=coeffs[0]\n",
    "coeffs_columns=X_train.columns\n",
    "coefficients=list(zip(coeffs,coeffs_columns))\n",
    "coefficients.sort()\n",
    "type(coefficients)"
   ]
  },
  {
   "cell_type": "code",
   "execution_count": 21,
   "metadata": {},
   "outputs": [
    {
     "data": {
      "text/plain": [
       "'No_Exercise'"
      ]
     },
     "execution_count": 21,
     "metadata": {},
     "output_type": "execute_result"
    }
   ],
   "source": []
  },
  {
   "cell_type": "code",
   "execution_count": 41,
   "metadata": {},
   "outputs": [
    {
     "data": {
      "text/plain": [
       "<matplotlib.axes._subplots.AxesSubplot at 0x7fe29dd93cc0>"
      ]
     },
     "execution_count": 41,
     "metadata": {},
     "output_type": "execute_result"
    },
    {
     "data": {
      "image/png": "[encoded data removed]",
      "text/plain": [
       "<Figure size 1080x720 with 1 Axes>"
      ]
     },
     "metadata": {
      "needs_background": "light"
     },
     "output_type": "display_data"
    }
   ],
   "source": [
    "import seaborn as sns\n",
    "import matplotlib.pyplot as plt\n",
    "%matplotlib inline\n",
    "plt.figure(figsize=(15,10))\n",
    "plt.xticks(rotation=60)\n",
    "sns.barplot(coeffs_columns,coeffs)\n"
   ]
  },
  {
   "cell_type": "code",
   "execution_count": null,
   "metadata": {},
   "outputs": [],
   "source": []
  }
 ],
 "metadata": {
  "kernelspec": {
   "display_name": "Python [conda env:learn-env] *",
   "language": "python",
   "name": "conda-env-learn-env-py"
  },
  "language_info": {
   "codemirror_mode": {
    "name": "ipython",
    "version": 3
   },
   "file_extension": ".py",
   "mimetype": "text/x-python",
   "name": "python",
   "nbconvert_exporter": "python",
   "pygments_lexer": "ipython3",
   "version": "3.6.6"
  }
 },
 "nbformat": 4,
 "nbformat_minor": 4
}
